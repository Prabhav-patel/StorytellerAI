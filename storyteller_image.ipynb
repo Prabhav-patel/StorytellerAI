from diffusers import StableDiffusionPipeline
import torch
from PIL import Image
import cv2
import numpy as np

# Check if a GPU is available and use it if possible
device = "cuda" if torch.cuda.is_available() else "cpu"

# Load the pre-trained Stable Diffusion model from Hugging Face
model_id = "CompVis/stable-diffusion-v1-4"
pipeline = StableDiffusionPipeline.from_pretrained(model_id)
pipeline.to(device)

def generate_image(prompt):
    # Generate image from prompt
    with torch.autocast(device):
        image = pipeline(prompt)["sample"][0]
    return image

def generate_story_segment(prompt):
    # Placeholder function for generating a story segment
    # Replace this with actual story generation logic
    return f"{prompt} continues."

def create_video(image_files, output_video_path, fps=1):
    # Read the first image to get dimensions
    frame = cv2.imread(image_files[0])
    height, width, layers = frame.shape

    # Define the codec and create VideoWriter object
    fourcc = cv2.VideoWriter_fourcc(*'XVID')
    video = cv2.VideoWriter(output_video_path, fourcc, fps, (width, height))

    for image_file in image_files:
        img = cv2.imread(image_file)
        video.write(img)

    video.release()

def main():
    prompts = [
        "A beautiful sunset over the mountains",
        "A knight standing in a forest",
        "A dragon flying over a mountain"
    ]
    image_files = []

    for i, prompt in enumerate(prompts):
        # Generate story segment
        story_segment = generate_story_segment(prompt)
        print(f"Story Segment: {story_segment}")

        # Generate image for the segment
        image = generate_image(prompt)
        
        # Save the generated image
        image_file = f"generated_image_{i}.png"
        image.save(image_file)
        image_files.append(image_file)
    
    # Create a video from the generated images
    create_video(image_files, 'story_video.avi', fps=1)

if __name__ == "__main__":
    main()
